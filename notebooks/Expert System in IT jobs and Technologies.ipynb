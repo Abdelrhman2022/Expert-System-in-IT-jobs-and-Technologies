{
 "cells": [
  {
   "cell_type": "code",
   "execution_count": 1,
   "id": "65a8ff1d",
   "metadata": {},
   "outputs": [],
   "source": [
    "DATA_PATH = '../data/raw/survey_results_public.csv'"
   ]
  },
  {
   "cell_type": "code",
   "execution_count": 2,
   "id": "430dc7cf",
   "metadata": {},
   "outputs": [],
   "source": [
    "import numpy as np\n",
    "import pandas as pd \n",
    "pd.set_option('display.max_rows', 10000)"
   ]
  },
  {
   "cell_type": "code",
   "execution_count": 3,
   "id": "8bf02204",
   "metadata": {},
   "outputs": [
    {
     "data": {
      "text/plain": [
       "(83439, 48)"
      ]
     },
     "execution_count": 3,
     "metadata": {},
     "output_type": "execute_result"
    }
   ],
   "source": [
    "# read dataset and print shape\n",
    "data_df = pd.read_csv(DATA_PATH)\n",
    "data_df.shape"
   ]
  },
  {
   "cell_type": "code",
   "execution_count": 4,
   "id": "ebfec9b7",
   "metadata": {},
   "outputs": [
    {
     "data": {
      "text/plain": [
       "ResponseId                                                                  18575\n",
       "MainBranch                                         I am a developer by profession\n",
       "Employment                                                     Student, full-time\n",
       "Country                                                                   Germany\n",
       "US_State                                                                      NaN\n",
       "UK_Country                                                                    NaN\n",
       "EdLevel                              Bachelor’s degree (B.A., B.S., B.Eng., etc.)\n",
       "Age1stCode                                                          11 - 17 years\n",
       "LearnCode                                                                  School\n",
       "YearsCode                                                                      10\n",
       "YearsCodePro                                                                  NaN\n",
       "DevType                                                                       NaN\n",
       "OrgSize                                                                       NaN\n",
       "Currency                                                                      NaN\n",
       "CompTotal                                                                     NaN\n",
       "CompFreq                                                                      NaN\n",
       "LanguageHaveWorkedWith                       HTML/CSS;JavaScript;Node.js;Python;R\n",
       "LanguageWantToWorkWith           HTML/CSS;JavaScript;Julia;Python;Rust;TypeScript\n",
       "DatabaseHaveWorkedWith                                                 PostgreSQL\n",
       "DatabaseWantToWorkWith                                          PostgreSQL;SQLite\n",
       "PlatformHaveWorkedWith                                                     Heroku\n",
       "PlatformWantToWorkWith                                                     Heroku\n",
       "WebframeHaveWorkedWith                                               Flask;Vue.js\n",
       "WebframeWantToWorkWith                                               Flask;Svelte\n",
       "MiscTechHaveWorkedWith                              Keras;NumPy;Pandas;TensorFlow\n",
       "MiscTechWantToWorkWith                                 NumPy;Pandas;Torch/PyTorch\n",
       "ToolsTechHaveWorkedWith                                              Git;Unity 3D\n",
       "ToolsTechWantToWorkWith                                              Git;Unity 3D\n",
       "NEWCollabToolsHaveWorkedWith                   PyCharm;RStudio;Visual Studio Code\n",
       "NEWCollabToolsWantToWorkWith                                   Visual Studio Code\n",
       "OpSys                                                                     Windows\n",
       "NEWStuck                        Go for a walk or other physical activity;Googl...\n",
       "NEWSOSites                      Stack Overflow;Stack Exchange;Stack Overflow f...\n",
       "SOVisitFreq                                                  A few times per week\n",
       "SOAccount                                                                     Yes\n",
       "SOPartFreq                                        A few times per month or weekly\n",
       "SOComm                                                              Yes, somewhat\n",
       "NEWOtherComms                                                                 Yes\n",
       "Age                                                               25-34 years old\n",
       "Gender                                                                        Man\n",
       "Trans                                                                          No\n",
       "Sexuality                                                 Straight / Heterosexual\n",
       "Ethnicity                                            White or of European descent\n",
       "Accessibility                                                   None of the above\n",
       "MentalHealth                                                    None of the above\n",
       "SurveyLength                                                Appropriate in length\n",
       "SurveyEase                                             Neither easy nor difficult\n",
       "ConvertedCompYearly                                                           NaN\n",
       "Name: 18574, dtype: object"
      ]
     },
     "execution_count": 4,
     "metadata": {},
     "output_type": "execute_result"
    }
   ],
   "source": [
    "#Display random answer\n",
    "#Observations: Multiple answers need to be splitted \n",
    "#Reference to the scheme needed to understand \n",
    "data_df.sample(1).iloc[0] "
   ]
  },
  {
   "cell_type": "code",
   "execution_count": 5,
   "id": "3730a977",
   "metadata": {},
   "outputs": [
    {
     "name": "stdout",
     "output_type": "stream",
     "text": [
      "<class 'pandas.core.frame.DataFrame'>\n",
      "RangeIndex: 83439 entries, 0 to 83438\n",
      "Data columns (total 48 columns):\n",
      " #   Column                        Non-Null Count  Dtype  \n",
      "---  ------                        --------------  -----  \n",
      " 0   ResponseId                    83439 non-null  int64  \n",
      " 1   MainBranch                    83439 non-null  object \n",
      " 2   Employment                    83323 non-null  object \n",
      " 3   Country                       83439 non-null  object \n",
      " 4   US_State                      14920 non-null  object \n",
      " 5   UK_Country                    4418 non-null   object \n",
      " 6   EdLevel                       83126 non-null  object \n",
      " 7   Age1stCode                    83243 non-null  object \n",
      " 8   LearnCode                     82963 non-null  object \n",
      " 9   YearsCode                     81641 non-null  object \n",
      " 10  YearsCodePro                  61216 non-null  object \n",
      " 11  DevType                       66484 non-null  object \n",
      " 12  OrgSize                       60726 non-null  object \n",
      " 13  Currency                      61080 non-null  object \n",
      " 14  CompTotal                     47183 non-null  float64\n",
      " 15  CompFreq                      52150 non-null  object \n",
      " 16  LanguageHaveWorkedWith        82357 non-null  object \n",
      " 17  LanguageWantToWorkWith        76821 non-null  object \n",
      " 18  DatabaseHaveWorkedWith        69546 non-null  object \n",
      " 19  DatabaseWantToWorkWith        58299 non-null  object \n",
      " 20  PlatformHaveWorkedWith        52135 non-null  object \n",
      " 21  PlatformWantToWorkWith        41619 non-null  object \n",
      " 22  WebframeHaveWorkedWith        61707 non-null  object \n",
      " 23  WebframeWantToWorkWith        52095 non-null  object \n",
      " 24  MiscTechHaveWorkedWith        47055 non-null  object \n",
      " 25  MiscTechWantToWorkWith        38021 non-null  object \n",
      " 26  ToolsTechHaveWorkedWith       72537 non-null  object \n",
      " 27  ToolsTechWantToWorkWith       65480 non-null  object \n",
      " 28  NEWCollabToolsHaveWorkedWith  81234 non-null  object \n",
      " 29  NEWCollabToolsWantToWorkWith  73022 non-null  object \n",
      " 30  OpSys                         83294 non-null  object \n",
      " 31  NEWStuck                      83052 non-null  object \n",
      " 32  NEWSOSites                    83171 non-null  object \n",
      " 33  SOVisitFreq                   82413 non-null  object \n",
      " 34  SOAccount                     82525 non-null  object \n",
      " 35  SOPartFreq                    67553 non-null  object \n",
      " 36  SOComm                        82319 non-null  object \n",
      " 37  NEWOtherComms                 82828 non-null  object \n",
      " 38  Age                           82407 non-null  object \n",
      " 39  Gender                        82286 non-null  object \n",
      " 40  Trans                         80678 non-null  object \n",
      " 41  Sexuality                     73366 non-null  object \n",
      " 42  Ethnicity                     79464 non-null  object \n",
      " 43  Accessibility                 77603 non-null  object \n",
      " 44  MentalHealth                  76920 non-null  object \n",
      " 45  SurveyLength                  81711 non-null  object \n",
      " 46  SurveyEase                    81948 non-null  object \n",
      " 47  ConvertedCompYearly           46844 non-null  float64\n",
      "dtypes: float64(2), int64(1), object(45)\n",
      "memory usage: 30.6+ MB\n"
     ]
    }
   ],
   "source": [
    "# print the general information of the data fream\n",
    "data_df.info()"
   ]
  },
  {
   "cell_type": "code",
   "execution_count": 6,
   "id": "fa375331",
   "metadata": {},
   "outputs": [
    {
     "data": {
      "text/html": [
       "<div>\n",
       "<style scoped>\n",
       "    .dataframe tbody tr th:only-of-type {\n",
       "        vertical-align: middle;\n",
       "    }\n",
       "\n",
       "    .dataframe tbody tr th {\n",
       "        vertical-align: top;\n",
       "    }\n",
       "\n",
       "    .dataframe thead th {\n",
       "        text-align: right;\n",
       "    }\n",
       "</style>\n",
       "<table border=\"1\" class=\"dataframe\">\n",
       "  <thead>\n",
       "    <tr style=\"text-align: right;\">\n",
       "      <th></th>\n",
       "      <th>ResponseId</th>\n",
       "      <th>CompTotal</th>\n",
       "      <th>ConvertedCompYearly</th>\n",
       "    </tr>\n",
       "  </thead>\n",
       "  <tbody>\n",
       "    <tr>\n",
       "      <th>count</th>\n",
       "      <td>83439.000000</td>\n",
       "      <td>4.718300e+04</td>\n",
       "      <td>4.684400e+04</td>\n",
       "    </tr>\n",
       "    <tr>\n",
       "      <th>mean</th>\n",
       "      <td>41720.000000</td>\n",
       "      <td>2.119407e+69</td>\n",
       "      <td>1.184262e+05</td>\n",
       "    </tr>\n",
       "    <tr>\n",
       "      <th>std</th>\n",
       "      <td>24086.908893</td>\n",
       "      <td>4.603702e+71</td>\n",
       "      <td>5.272944e+05</td>\n",
       "    </tr>\n",
       "    <tr>\n",
       "      <th>min</th>\n",
       "      <td>1.000000</td>\n",
       "      <td>0.000000e+00</td>\n",
       "      <td>1.000000e+00</td>\n",
       "    </tr>\n",
       "    <tr>\n",
       "      <th>25%</th>\n",
       "      <td>20860.500000</td>\n",
       "      <td>1.600000e+04</td>\n",
       "      <td>2.702500e+04</td>\n",
       "    </tr>\n",
       "    <tr>\n",
       "      <th>50%</th>\n",
       "      <td>41720.000000</td>\n",
       "      <td>6.700000e+04</td>\n",
       "      <td>5.621100e+04</td>\n",
       "    </tr>\n",
       "    <tr>\n",
       "      <th>75%</th>\n",
       "      <td>62579.500000</td>\n",
       "      <td>1.400000e+05</td>\n",
       "      <td>1.000000e+05</td>\n",
       "    </tr>\n",
       "    <tr>\n",
       "      <th>max</th>\n",
       "      <td>83439.000000</td>\n",
       "      <td>1.000000e+74</td>\n",
       "      <td>4.524131e+07</td>\n",
       "    </tr>\n",
       "  </tbody>\n",
       "</table>\n",
       "</div>"
      ],
      "text/plain": [
       "         ResponseId     CompTotal  ConvertedCompYearly\n",
       "count  83439.000000  4.718300e+04         4.684400e+04\n",
       "mean   41720.000000  2.119407e+69         1.184262e+05\n",
       "std    24086.908893  4.603702e+71         5.272944e+05\n",
       "min        1.000000  0.000000e+00         1.000000e+00\n",
       "25%    20860.500000  1.600000e+04         2.702500e+04\n",
       "50%    41720.000000  6.700000e+04         5.621100e+04\n",
       "75%    62579.500000  1.400000e+05         1.000000e+05\n",
       "max    83439.000000  1.000000e+74         4.524131e+07"
      ]
     },
     "execution_count": 6,
     "metadata": {},
     "output_type": "execute_result"
    }
   ],
   "source": [
    "# get stata for the numarical columns\n",
    "data_df.describe()"
   ]
  },
  {
   "cell_type": "code",
   "execution_count": 7,
   "id": "631fdac7",
   "metadata": {},
   "outputs": [
    {
     "data": {
      "text/html": [
       "<div>\n",
       "<style scoped>\n",
       "    .dataframe tbody tr th:only-of-type {\n",
       "        vertical-align: middle;\n",
       "    }\n",
       "\n",
       "    .dataframe tbody tr th {\n",
       "        vertical-align: top;\n",
       "    }\n",
       "\n",
       "    .dataframe thead th {\n",
       "        text-align: right;\n",
       "    }\n",
       "</style>\n",
       "<table border=\"1\" class=\"dataframe\">\n",
       "  <thead>\n",
       "    <tr style=\"text-align: right;\">\n",
       "      <th></th>\n",
       "      <th>LanguageHaveWorkedWith</th>\n",
       "      <th>Currency</th>\n",
       "      <th>DevType</th>\n",
       "    </tr>\n",
       "  </thead>\n",
       "  <tbody>\n",
       "    <tr>\n",
       "      <th>count</th>\n",
       "      <td>82357</td>\n",
       "      <td>61080</td>\n",
       "      <td>66484</td>\n",
       "    </tr>\n",
       "    <tr>\n",
       "      <th>unique</th>\n",
       "      <td>28690</td>\n",
       "      <td>146</td>\n",
       "      <td>8626</td>\n",
       "    </tr>\n",
       "    <tr>\n",
       "      <th>top</th>\n",
       "      <td>Python</td>\n",
       "      <td>USD\\tUnited States dollar</td>\n",
       "      <td>Developer, full-stack</td>\n",
       "    </tr>\n",
       "    <tr>\n",
       "      <th>freq</th>\n",
       "      <td>1337</td>\n",
       "      <td>14363</td>\n",
       "      <td>8601</td>\n",
       "    </tr>\n",
       "  </tbody>\n",
       "</table>\n",
       "</div>"
      ],
      "text/plain": [
       "       LanguageHaveWorkedWith                   Currency  \\\n",
       "count                   82357                      61080   \n",
       "unique                  28690                        146   \n",
       "top                    Python  USD\\tUnited States dollar   \n",
       "freq                     1337                      14363   \n",
       "\n",
       "                      DevType  \n",
       "count                   66484  \n",
       "unique                   8626  \n",
       "top     Developer, full-stack  \n",
       "freq                     8601  "
      ]
     },
     "execution_count": 7,
     "metadata": {},
     "output_type": "execute_result"
    }
   ],
   "source": [
    "# get summarize Categorical data also\n",
    "data_df[[\"LanguageHaveWorkedWith\",\"Currency\", \"DevType\"]].describe(include = 'object')"
   ]
  },
  {
   "cell_type": "code",
   "execution_count": 8,
   "id": "4b39293b",
   "metadata": {},
   "outputs": [
    {
     "name": "stdout",
     "output_type": "stream",
     "text": [
      "YearsCode\n",
      "[nan '7' '17' '3' '4' '6' '16' '12' '15' '10' '40' '9' '26' '14' '39' '20'\n",
      " '8' '19' '5' 'Less than 1 year' '22' '2' '1' '34' '21' '13' '25' '24'\n",
      " '30' '31' '18' '38' 'More than 50 years' '27' '41' '42' '35' '23' '28'\n",
      " '11' '37' '44' '43' '36' '33' '45' '29' '50' '46' '32' '47' '49' '48']\n",
      "**************************\n",
      "\n",
      "YearsCodePro\n",
      "[nan '10' '4' '5' '6' '2' '30' '9' '18' '12' '21' '1' '16'\n",
      " 'Less than 1 year' '15' '3' '35' '7' '8' '17' '14' '26' '25' '20' '50'\n",
      " '34' '11' '24' '22' '13' '31' '23' '39' '41' '27' '28' '19' '33'\n",
      " 'More than 50 years' '37' '29' '32' '43' '40' '38' '45' '42' '46' '36'\n",
      " '44' '47' '48' '49']\n",
      "**************************\n",
      "\n"
     ]
    }
   ],
   "source": [
    "# investigate the questionable obojects columns\n",
    "\n",
    "questionable_cols = ['YearsCode', 'YearsCodePro']\n",
    "\n",
    "for col in questionable_cols:\n",
    "    print(col)\n",
    "    print(data_df[col].unique())\n",
    "    print('**************************')\n",
    "    print()"
   ]
  },
  {
   "cell_type": "markdown",
   "id": "252f2951",
   "metadata": {},
   "source": [
    "### PREPROSSING DATA"
   ]
  },
  {
   "cell_type": "code",
   "execution_count": 19,
   "id": "64366e64",
   "metadata": {},
   "outputs": [],
   "source": [
    "# Constants\n",
    "EXPORT_PATH = '../data/processed/1_preprocessed_df.pkl'\n",
    "\n",
    "REPLACE_DICT = {\n",
    "    \"YearsCodePro\": {'Less than 1 year': 0 , 'More than 50 years' : 51} ,\n",
    "    \"YearsCode\": {'Less than 1 year': 0 , 'More than 50 years' : 51}\n",
    "}"
   ]
  },
  {
   "cell_type": "code",
   "execution_count": 20,
   "id": "cfbf0af3",
   "metadata": {},
   "outputs": [],
   "source": [
    "def split_answer(data_series, delimiter = ';'):\n",
    "    '''\n",
    "    Split multiple answers in a single string\n",
    "    to a list of single strings each reprosnting a single answers \n",
    "    \n",
    "    Parameters: \n",
    "    • data_series (pd.Series): String series with answers \n",
    "    • delimiter (string): Another decimal integer Defaults to ','\n",
    "    \n",
    "    Returns: (data_series): If column contains \n",
    "    '''\n",
    "    \n",
    "    #sub functions\n",
    "    def is_splittable(pd_series, delimiter):\n",
    "        ''' Check if results multiple should be splitted - Returns boolean '''\n",
    "        return data_series.str.contains(delimiter) \n",
    "    \n",
    "    def split_answer(pd_series, delimiter): \n",
    "        \"\"\" Function to split single answer  \"\"\"\n",
    "        return data_series.str.split(delimiter) \n",
    "    \n",
    "    \n",
    "    # check if multiple answers exists - if none: restore original\n",
    "    splitable_values = is_splittable(data_series, delimiter)\n",
    "    if not splitable_values.any():\n",
    "        return data_series\n",
    "    \n",
    "    # else splite each value to a list\n",
    "    modified_series = split_answer(data_series, delimiter)\n",
    "    \n",
    "    # replace NAs with empty lists\n",
    "    mask_null = modified_series.isnull()\n",
    "    modified_series.loc[mask_null] = modified_series.loc[mask_null].apply(lambda x : [])\n",
    "    \n",
    "    return modified_series"
   ]
  },
  {
   "cell_type": "code",
   "execution_count": 21,
   "id": "4876b409",
   "metadata": {},
   "outputs": [],
   "source": [
    "# copy row data in new dataframe\n",
    "df = data_df.copy()"
   ]
  },
  {
   "cell_type": "markdown",
   "id": "8088cab3",
   "metadata": {},
   "source": [
    "### 1. Replace Values and Parse"
   ]
  },
  {
   "cell_type": "code",
   "execution_count": 22,
   "id": "996c3b0e",
   "metadata": {},
   "outputs": [],
   "source": [
    "for col, replacement in REPLACE_DICT.items():\n",
    "    df[col] = df[col].replace(replacement).astype(np.float32)"
   ]
  },
  {
   "cell_type": "markdown",
   "id": "d2a641b7",
   "metadata": {},
   "source": [
    "### 2. Split Multiple Answer"
   ]
  },
  {
   "cell_type": "code",
   "execution_count": 23,
   "id": "f5f86f70",
   "metadata": {},
   "outputs": [],
   "source": [
    "objects_cols = df.select_dtypes(include = 'object').columns.tolist()\n",
    "\n",
    "for col in objects_cols:\n",
    "    df[col] = split_answer(df[col])"
   ]
  },
  {
   "cell_type": "markdown",
   "id": "df393fab",
   "metadata": {},
   "source": [
    "###   Visual Verify Result "
   ]
  },
  {
   "cell_type": "code",
   "execution_count": 24,
   "id": "a29ad7d5",
   "metadata": {},
   "outputs": [
    {
     "name": "stdout",
     "output_type": "stream",
     "text": [
      "Assembly;Bash/Shell;C;C#;C++;HTML/CSS;JavaScript;Node.js;PHP;Python;Rust;SQL;TypeScript\n",
      "['Assembly', 'Bash/Shell', 'C', 'C#', 'C++', 'HTML/CSS', 'JavaScript', 'Node.js', 'PHP', 'Python', 'Rust', 'SQL', 'TypeScript']\n"
     ]
    }
   ],
   "source": [
    "i = df.sample(1).index[0]\n",
    "print(data_df['LanguageHaveWorkedWith'].iloc[i])\n",
    "print(df['LanguageHaveWorkedWith'].iloc[i])"
   ]
  },
  {
   "cell_type": "code",
   "execution_count": 25,
   "id": "245ee811",
   "metadata": {},
   "outputs": [
    {
     "name": "stdout",
     "output_type": "stream",
     "text": [
      "Developer, mobile;Developer, full-stack;DevOps specialist\n",
      "['Developer, mobile', 'Developer, full-stack', 'DevOps specialist']\n"
     ]
    }
   ],
   "source": [
    "i = df.sample(1).index[0]\n",
    "print(data_df['DevType'].iloc[i])\n",
    "print(df['DevType'].iloc[i])"
   ]
  },
  {
   "cell_type": "code",
   "execution_count": 32,
   "id": "dac55ad2",
   "metadata": {},
   "outputs": [
    {
     "name": "stdout",
     "output_type": "stream",
     "text": [
      "4\n",
      "4.0\n"
     ]
    }
   ],
   "source": [
    "i = df.sample(1).index[0]\n",
    "print(data_df['YearsCodePro'].iloc[i])\n",
    "print(df['YearsCodePro'].iloc[i])"
   ]
  },
  {
   "cell_type": "markdown",
   "id": "45c00adc",
   "metadata": {},
   "source": [
    "### Export Data"
   ]
  },
  {
   "cell_type": "code",
   "execution_count": null,
   "id": "5ebb2904",
   "metadata": {},
   "outputs": [],
   "source": [
    "df.to_pickle(EXPORT_PATH)"
   ]
  },
  {
   "cell_type": "code",
   "execution_count": null,
   "id": "a9ee0de8",
   "metadata": {},
   "outputs": [],
   "source": []
  },
  {
   "cell_type": "code",
   "execution_count": null,
   "id": "a3294e72",
   "metadata": {},
   "outputs": [],
   "source": []
  },
  {
   "cell_type": "code",
   "execution_count": 27,
   "id": "f39e831c",
   "metadata": {},
   "outputs": [],
   "source": []
  },
  {
   "cell_type": "code",
   "execution_count": null,
   "id": "f658b517",
   "metadata": {},
   "outputs": [],
   "source": []
  }
 ],
 "metadata": {
  "kernelspec": {
   "display_name": "Python 3 (ipykernel)",
   "language": "python",
   "name": "python3"
  },
  "language_info": {
   "codemirror_mode": {
    "name": "ipython",
    "version": 3
   },
   "file_extension": ".py",
   "mimetype": "text/x-python",
   "name": "python",
   "nbconvert_exporter": "python",
   "pygments_lexer": "ipython3",
   "version": "3.9.12"
  }
 },
 "nbformat": 4,
 "nbformat_minor": 5
}
