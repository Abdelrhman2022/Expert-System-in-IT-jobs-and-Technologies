{
 "cells": [
  {
   "cell_type": "code",
   "execution_count": 1,
   "id": "7783f6e4-44c9-4789-b59d-ff8de5535a89",
   "metadata": {},
   "outputs": [],
   "source": [
    "DF_PATH       = \"../data/processed/1_preprocessed_df.pkl\"\n",
    "FEATURES_PATH = \"../data/processed/features_skills_clusters.pkl\"\n",
    "\n",
    "ROLE_COLS      = ['DevType']\n",
    "TECH_COLS      = ['LanguageHaveWorkedWith',\n",
    "                  'DatabaseHaveWorkedWith',\n",
    "                  'PlatformHaveWorkedWith',\n",
    "                  'WebframeHaveWorkedWith',\n",
    "                  'MiscTechHaveWorkedWith',\n",
    "                  'ToolsTechHaveWorkedWith',\n",
    "                  'NEWCollabToolsHaveWorkedWith']\n",
    "\n",
    "EXPORT_PATH    = \"../data/processed/2_cleaned_data.pkl\""
   ]
  },
  {
   "cell_type": "code",
   "execution_count": 2,
   "id": "0c450c57-e085-4a4a-9fa4-efe9b60ed798",
   "metadata": {
    "tags": []
   },
   "outputs": [],
   "source": [
    "# Load packages\n",
    "import pandas as pd \n",
    "import numpy as np\n",
    "import pickle\n",
    "\n",
    "import matplotlib.pyplot as plt\n",
    "from sklearn.preprocessing import MultiLabelBinarizer"
   ]
  },
  {
   "cell_type": "markdown",
   "id": "6e58f82f-e413-4849-b676-2aaf8b226901",
   "metadata": {
    "tags": []
   },
   "source": [
    "### Read data and preprocess"
   ]
  },
  {
   "cell_type": "code",
   "execution_count": 4,
   "id": "7215ffec-8083-43fc-b194-18cbc62c4c50",
   "metadata": {},
   "outputs": [],
   "source": [
    "# Read Data \n",
    "processed_df = pd.read_pickle(DF_PATH)\n",
    "features_df = pd.read_pickle(FEATURES_PATH)"
   ]
  },
  {
   "cell_type": "code",
   "execution_count": 5,
   "id": "dd86557c",
   "metadata": {
    "pycharm": {
     "name": "#%%\n"
    }
   },
   "outputs": [],
   "source": [
    "# One hot encode\n",
    "encoded_dfs = {}\n",
    "for col in ROLE_COLS + TECH_COLS:\n",
    "    binarizer = MultiLabelBinarizer()\n",
    "    encoded_df = pd.DataFrame(binarizer.fit_transform(processed_df[col]),\n",
    "                               columns=binarizer.classes_,\n",
    "                               index=processed_df[col].index)\n",
    "    encoded_dfs[col] = encoded_df\n",
    "\n",
    "# Merge 1-hot encoded\n",
    "encoded_dfs = pd.concat(encoded_dfs, axis=1)"
   ]
  },
  {
   "cell_type": "code",
   "execution_count": 6,
   "id": "70f36c1d",
   "metadata": {
    "pycharm": {
     "name": "#%%\n"
    }
   },
   "outputs": [
    {
     "data": {
      "text/html": [
       "<div>\n",
       "<style scoped>\n",
       "    .dataframe tbody tr th:only-of-type {\n",
       "        vertical-align: middle;\n",
       "    }\n",
       "\n",
       "    .dataframe tbody tr th {\n",
       "        vertical-align: top;\n",
       "    }\n",
       "\n",
       "    .dataframe thead tr th {\n",
       "        text-align: left;\n",
       "    }\n",
       "</style>\n",
       "<table border=\"1\" class=\"dataframe\">\n",
       "  <thead>\n",
       "    <tr>\n",
       "      <th></th>\n",
       "      <th colspan=\"10\" halign=\"left\">DevType</th>\n",
       "      <th>...</th>\n",
       "      <th colspan=\"10\" halign=\"left\">NEWCollabToolsHaveWorkedWith</th>\n",
       "    </tr>\n",
       "    <tr>\n",
       "      <th></th>\n",
       "      <th>Academic researcher</th>\n",
       "      <th>Data or business analyst</th>\n",
       "      <th>Data scientist or machine learning specialist</th>\n",
       "      <th>Database administrator</th>\n",
       "      <th>Designer</th>\n",
       "      <th>DevOps specialist</th>\n",
       "      <th>Developer, QA or test</th>\n",
       "      <th>Developer, back-end</th>\n",
       "      <th>Developer, desktop or enterprise applications</th>\n",
       "      <th>Developer, embedded applications or devices</th>\n",
       "      <th>...</th>\n",
       "      <th>RStudio</th>\n",
       "      <th>Rider</th>\n",
       "      <th>RubyMine</th>\n",
       "      <th>Sublime Text</th>\n",
       "      <th>TextMate</th>\n",
       "      <th>Vim</th>\n",
       "      <th>Visual Studio</th>\n",
       "      <th>Visual Studio Code</th>\n",
       "      <th>Webstorm</th>\n",
       "      <th>Xcode</th>\n",
       "    </tr>\n",
       "  </thead>\n",
       "  <tbody>\n",
       "    <tr>\n",
       "      <th>0</th>\n",
       "      <td>0</td>\n",
       "      <td>0</td>\n",
       "      <td>0</td>\n",
       "      <td>0</td>\n",
       "      <td>0</td>\n",
       "      <td>0</td>\n",
       "      <td>0</td>\n",
       "      <td>0</td>\n",
       "      <td>0</td>\n",
       "      <td>0</td>\n",
       "      <td>...</td>\n",
       "      <td>0</td>\n",
       "      <td>0</td>\n",
       "      <td>0</td>\n",
       "      <td>0</td>\n",
       "      <td>0</td>\n",
       "      <td>0</td>\n",
       "      <td>0</td>\n",
       "      <td>0</td>\n",
       "      <td>0</td>\n",
       "      <td>1</td>\n",
       "    </tr>\n",
       "    <tr>\n",
       "      <th>1</th>\n",
       "      <td>0</td>\n",
       "      <td>0</td>\n",
       "      <td>0</td>\n",
       "      <td>0</td>\n",
       "      <td>0</td>\n",
       "      <td>0</td>\n",
       "      <td>0</td>\n",
       "      <td>0</td>\n",
       "      <td>0</td>\n",
       "      <td>0</td>\n",
       "      <td>...</td>\n",
       "      <td>0</td>\n",
       "      <td>0</td>\n",
       "      <td>0</td>\n",
       "      <td>0</td>\n",
       "      <td>0</td>\n",
       "      <td>0</td>\n",
       "      <td>0</td>\n",
       "      <td>0</td>\n",
       "      <td>0</td>\n",
       "      <td>0</td>\n",
       "    </tr>\n",
       "    <tr>\n",
       "      <th>2</th>\n",
       "      <td>0</td>\n",
       "      <td>0</td>\n",
       "      <td>0</td>\n",
       "      <td>0</td>\n",
       "      <td>0</td>\n",
       "      <td>0</td>\n",
       "      <td>0</td>\n",
       "      <td>0</td>\n",
       "      <td>0</td>\n",
       "      <td>0</td>\n",
       "      <td>...</td>\n",
       "      <td>1</td>\n",
       "      <td>0</td>\n",
       "      <td>0</td>\n",
       "      <td>1</td>\n",
       "      <td>0</td>\n",
       "      <td>0</td>\n",
       "      <td>0</td>\n",
       "      <td>1</td>\n",
       "      <td>0</td>\n",
       "      <td>0</td>\n",
       "    </tr>\n",
       "    <tr>\n",
       "      <th>3</th>\n",
       "      <td>0</td>\n",
       "      <td>0</td>\n",
       "      <td>0</td>\n",
       "      <td>0</td>\n",
       "      <td>0</td>\n",
       "      <td>0</td>\n",
       "      <td>0</td>\n",
       "      <td>0</td>\n",
       "      <td>0</td>\n",
       "      <td>0</td>\n",
       "      <td>...</td>\n",
       "      <td>0</td>\n",
       "      <td>0</td>\n",
       "      <td>0</td>\n",
       "      <td>0</td>\n",
       "      <td>0</td>\n",
       "      <td>0</td>\n",
       "      <td>0</td>\n",
       "      <td>0</td>\n",
       "      <td>0</td>\n",
       "      <td>0</td>\n",
       "    </tr>\n",
       "    <tr>\n",
       "      <th>4</th>\n",
       "      <td>0</td>\n",
       "      <td>0</td>\n",
       "      <td>0</td>\n",
       "      <td>0</td>\n",
       "      <td>0</td>\n",
       "      <td>0</td>\n",
       "      <td>0</td>\n",
       "      <td>0</td>\n",
       "      <td>1</td>\n",
       "      <td>0</td>\n",
       "      <td>...</td>\n",
       "      <td>0</td>\n",
       "      <td>0</td>\n",
       "      <td>0</td>\n",
       "      <td>0</td>\n",
       "      <td>0</td>\n",
       "      <td>1</td>\n",
       "      <td>0</td>\n",
       "      <td>0</td>\n",
       "      <td>0</td>\n",
       "      <td>0</td>\n",
       "    </tr>\n",
       "    <tr>\n",
       "      <th>...</th>\n",
       "      <td>...</td>\n",
       "      <td>...</td>\n",
       "      <td>...</td>\n",
       "      <td>...</td>\n",
       "      <td>...</td>\n",
       "      <td>...</td>\n",
       "      <td>...</td>\n",
       "      <td>...</td>\n",
       "      <td>...</td>\n",
       "      <td>...</td>\n",
       "      <td>...</td>\n",
       "      <td>...</td>\n",
       "      <td>...</td>\n",
       "      <td>...</td>\n",
       "      <td>...</td>\n",
       "      <td>...</td>\n",
       "      <td>...</td>\n",
       "      <td>...</td>\n",
       "      <td>...</td>\n",
       "      <td>...</td>\n",
       "      <td>...</td>\n",
       "    </tr>\n",
       "    <tr>\n",
       "      <th>83434</th>\n",
       "      <td>0</td>\n",
       "      <td>0</td>\n",
       "      <td>0</td>\n",
       "      <td>0</td>\n",
       "      <td>0</td>\n",
       "      <td>0</td>\n",
       "      <td>0</td>\n",
       "      <td>1</td>\n",
       "      <td>0</td>\n",
       "      <td>0</td>\n",
       "      <td>...</td>\n",
       "      <td>0</td>\n",
       "      <td>0</td>\n",
       "      <td>0</td>\n",
       "      <td>1</td>\n",
       "      <td>0</td>\n",
       "      <td>1</td>\n",
       "      <td>0</td>\n",
       "      <td>1</td>\n",
       "      <td>0</td>\n",
       "      <td>0</td>\n",
       "    </tr>\n",
       "    <tr>\n",
       "      <th>83435</th>\n",
       "      <td>0</td>\n",
       "      <td>0</td>\n",
       "      <td>0</td>\n",
       "      <td>0</td>\n",
       "      <td>0</td>\n",
       "      <td>0</td>\n",
       "      <td>0</td>\n",
       "      <td>0</td>\n",
       "      <td>0</td>\n",
       "      <td>0</td>\n",
       "      <td>...</td>\n",
       "      <td>1</td>\n",
       "      <td>0</td>\n",
       "      <td>0</td>\n",
       "      <td>1</td>\n",
       "      <td>0</td>\n",
       "      <td>1</td>\n",
       "      <td>1</td>\n",
       "      <td>1</td>\n",
       "      <td>0</td>\n",
       "      <td>0</td>\n",
       "    </tr>\n",
       "    <tr>\n",
       "      <th>83436</th>\n",
       "      <td>0</td>\n",
       "      <td>0</td>\n",
       "      <td>1</td>\n",
       "      <td>0</td>\n",
       "      <td>0</td>\n",
       "      <td>1</td>\n",
       "      <td>0</td>\n",
       "      <td>0</td>\n",
       "      <td>0</td>\n",
       "      <td>0</td>\n",
       "      <td>...</td>\n",
       "      <td>0</td>\n",
       "      <td>0</td>\n",
       "      <td>0</td>\n",
       "      <td>1</td>\n",
       "      <td>0</td>\n",
       "      <td>1</td>\n",
       "      <td>0</td>\n",
       "      <td>1</td>\n",
       "      <td>0</td>\n",
       "      <td>1</td>\n",
       "    </tr>\n",
       "    <tr>\n",
       "      <th>83437</th>\n",
       "      <td>0</td>\n",
       "      <td>0</td>\n",
       "      <td>0</td>\n",
       "      <td>0</td>\n",
       "      <td>0</td>\n",
       "      <td>0</td>\n",
       "      <td>0</td>\n",
       "      <td>1</td>\n",
       "      <td>0</td>\n",
       "      <td>0</td>\n",
       "      <td>...</td>\n",
       "      <td>0</td>\n",
       "      <td>0</td>\n",
       "      <td>0</td>\n",
       "      <td>1</td>\n",
       "      <td>0</td>\n",
       "      <td>0</td>\n",
       "      <td>0</td>\n",
       "      <td>0</td>\n",
       "      <td>0</td>\n",
       "      <td>0</td>\n",
       "    </tr>\n",
       "    <tr>\n",
       "      <th>83438</th>\n",
       "      <td>0</td>\n",
       "      <td>0</td>\n",
       "      <td>0</td>\n",
       "      <td>0</td>\n",
       "      <td>0</td>\n",
       "      <td>0</td>\n",
       "      <td>0</td>\n",
       "      <td>1</td>\n",
       "      <td>0</td>\n",
       "      <td>0</td>\n",
       "      <td>...</td>\n",
       "      <td>0</td>\n",
       "      <td>0</td>\n",
       "      <td>0</td>\n",
       "      <td>0</td>\n",
       "      <td>0</td>\n",
       "      <td>0</td>\n",
       "      <td>0</td>\n",
       "      <td>1</td>\n",
       "      <td>0</td>\n",
       "      <td>0</td>\n",
       "    </tr>\n",
       "  </tbody>\n",
       "</table>\n",
       "<p>83439 rows × 150 columns</p>\n",
       "</div>"
      ],
      "text/plain": [
       "                  DevType                           \\\n",
       "      Academic researcher Data or business analyst   \n",
       "0                       0                        0   \n",
       "1                       0                        0   \n",
       "2                       0                        0   \n",
       "3                       0                        0   \n",
       "4                       0                        0   \n",
       "...                   ...                      ...   \n",
       "83434                   0                        0   \n",
       "83435                   0                        0   \n",
       "83436                   0                        0   \n",
       "83437                   0                        0   \n",
       "83438                   0                        0   \n",
       "\n",
       "                                                                            \\\n",
       "      Data scientist or machine learning specialist Database administrator   \n",
       "0                                                 0                      0   \n",
       "1                                                 0                      0   \n",
       "2                                                 0                      0   \n",
       "3                                                 0                      0   \n",
       "4                                                 0                      0   \n",
       "...                                             ...                    ...   \n",
       "83434                                             0                      0   \n",
       "83435                                             0                      0   \n",
       "83436                                             1                      0   \n",
       "83437                                             0                      0   \n",
       "83438                                             0                      0   \n",
       "\n",
       "                                                                            \\\n",
       "      Designer DevOps specialist Developer, QA or test Developer, back-end   \n",
       "0            0                 0                     0                   0   \n",
       "1            0                 0                     0                   0   \n",
       "2            0                 0                     0                   0   \n",
       "3            0                 0                     0                   0   \n",
       "4            0                 0                     0                   0   \n",
       "...        ...               ...                   ...                 ...   \n",
       "83434        0                 0                     0                   1   \n",
       "83435        0                 0                     0                   0   \n",
       "83436        0                 1                     0                   0   \n",
       "83437        0                 0                     0                   1   \n",
       "83438        0                 0                     0                   1   \n",
       "\n",
       "                                                     \\\n",
       "      Developer, desktop or enterprise applications   \n",
       "0                                                 0   \n",
       "1                                                 0   \n",
       "2                                                 0   \n",
       "3                                                 0   \n",
       "4                                                 1   \n",
       "...                                             ...   \n",
       "83434                                             0   \n",
       "83435                                             0   \n",
       "83436                                             0   \n",
       "83437                                             0   \n",
       "83438                                             0   \n",
       "\n",
       "                                                   ...  \\\n",
       "      Developer, embedded applications or devices  ...   \n",
       "0                                               0  ...   \n",
       "1                                               0  ...   \n",
       "2                                               0  ...   \n",
       "3                                               0  ...   \n",
       "4                                               0  ...   \n",
       "...                                           ...  ...   \n",
       "83434                                           0  ...   \n",
       "83435                                           0  ...   \n",
       "83436                                           0  ...   \n",
       "83437                                           0  ...   \n",
       "83438                                           0  ...   \n",
       "\n",
       "      NEWCollabToolsHaveWorkedWith                                           \\\n",
       "                           RStudio Rider RubyMine Sublime Text TextMate Vim   \n",
       "0                                0     0        0            0        0   0   \n",
       "1                                0     0        0            0        0   0   \n",
       "2                                1     0        0            1        0   0   \n",
       "3                                0     0        0            0        0   0   \n",
       "4                                0     0        0            0        0   1   \n",
       "...                            ...   ...      ...          ...      ...  ..   \n",
       "83434                            0     0        0            1        0   1   \n",
       "83435                            1     0        0            1        0   1   \n",
       "83436                            0     0        0            1        0   1   \n",
       "83437                            0     0        0            1        0   0   \n",
       "83438                            0     0        0            0        0   0   \n",
       "\n",
       "                                                       \n",
       "      Visual Studio Visual Studio Code Webstorm Xcode  \n",
       "0                 0                  0        0     1  \n",
       "1                 0                  0        0     0  \n",
       "2                 0                  1        0     0  \n",
       "3                 0                  0        0     0  \n",
       "4                 0                  0        0     0  \n",
       "...             ...                ...      ...   ...  \n",
       "83434             0                  1        0     0  \n",
       "83435             1                  1        0     0  \n",
       "83436             0                  1        0     1  \n",
       "83437             0                  0        0     0  \n",
       "83438             0                  1        0     0  \n",
       "\n",
       "[83439 rows x 150 columns]"
      ]
     },
     "execution_count": 6,
     "metadata": {},
     "output_type": "execute_result"
    }
   ],
   "source": [
    "encoded_dfs"
   ]
  },
  {
   "cell_type": "markdown",
   "id": "6992902e-d5c1-4f5f-9db0-175a57df9724",
   "metadata": {
    "tags": []
   },
   "source": [
    "### Quick sanity check"
   ]
  },
  {
   "cell_type": "code",
   "execution_count": 7,
   "id": "785c6ba3-04f5-4cc2-aeca-28831accd0ec",
   "metadata": {},
   "outputs": [
    {
     "name": "stdout",
     "output_type": "stream",
     "text": [
      "[['Developer, full-stack', 'Developer, back-end', 'DevOps specialist']]\n",
      "[['Node.js'], ['DynamoDB', 'MySQL'], ['AWS'], ['Express', 'React.js'], [], ['Docker', 'Git', 'Terraform', 'Yarn'], ['Sublime Text', 'Visual Studio Code']]\n",
      "----------------\n",
      "DevType                       DevOps specialist        1\n",
      "                              Developer, back-end      1\n",
      "                              Developer, full-stack    1\n",
      "LanguageHaveWorkedWith        Node.js                  1\n",
      "DatabaseHaveWorkedWith        DynamoDB                 1\n",
      "                              MySQL                    1\n",
      "PlatformHaveWorkedWith        AWS                      1\n",
      "WebframeHaveWorkedWith        Express                  1\n",
      "                              React.js                 1\n",
      "ToolsTechHaveWorkedWith       Docker                   1\n",
      "                              Git                      1\n",
      "                              Terraform                1\n",
      "                              Yarn                     1\n",
      "NEWCollabToolsHaveWorkedWith  Sublime Text             1\n",
      "                              Visual Studio Code       1\n",
      "Name: 1412, dtype: int32\n",
      "----------------\n",
      "Clusters: 9\n",
      "Skills: 12\n"
     ]
    }
   ],
   "source": [
    "# Select random int\n",
    "i = np.random.randint(processed_df.shape[0])\n",
    "\n",
    "# Print original values\n",
    "print(processed_df.iloc[i][ROLE_COLS].tolist())\n",
    "print(processed_df.iloc[i][TECH_COLS].tolist())\n",
    "print(\"----------------\")\n",
    "\n",
    "# Print processed\n",
    "print(encoded_dfs.iloc[i][encoded_dfs.iloc[i] == 1])\n",
    "print(\"----------------\")\n",
    "\n",
    "# Check clustering \n",
    "print(\"Clusters:\",features_df.iloc[i].sum())\n",
    "print(\"Skills:\",  encoded_dfs[TECH_COLS].iloc[i].sum())"
   ]
  },
  {
   "cell_type": "markdown",
   "id": "d9373492-a07c-43a6-9d93-3ef0d872a809",
   "metadata": {},
   "source": [
    "___________"
   ]
  },
  {
   "cell_type": "markdown",
   "id": "61efec99-218c-4df4-ad84-3337ff14465c",
   "metadata": {},
   "source": [
    "## Exclude Roles"
   ]
  },
  {
   "cell_type": "code",
   "execution_count": 8,
   "id": "5c0027ec",
   "metadata": {
    "pycharm": {
     "name": "#%%\n"
    }
   },
   "outputs": [],
   "source": [
    "# Exclude roles\n",
    "EXCULDE_ROLES = [\n",
    "    'Other (please specify):',\n",
    "    'Student',\n",
    "    'Designer',\n",
    "    'Educator',\n",
    "    'Marketing or sales professional',\n",
    "    'Engineering manager',\n",
    "    'Senior Executive (C-Suite, VP, etc.)',\n",
    "    'Product manager',\n",
    "    'Engineer, site reliability']"
   ]
  },
  {
   "cell_type": "code",
   "execution_count": 9,
   "id": "4254f439-4d59-4131-9f12-fca9f939454e",
   "metadata": {},
   "outputs": [],
   "source": [
    "for role in EXCULDE_ROLES:\n",
    "    encoded_dfs = encoded_dfs.drop((\"DevType\", role), axis=1)"
   ]
  },
  {
   "cell_type": "code",
   "execution_count": 10,
   "id": "de392eba",
   "metadata": {
    "pycharm": {
     "name": "#%%\n"
    }
   },
   "outputs": [
    {
     "data": {
      "text/plain": [
       "Academic researcher                               2899\n",
       "Data or business analyst                          3792\n",
       "Data scientist or machine learning specialist     4273\n",
       "Database administrator                            5655\n",
       "DevOps specialist                                 7058\n",
       "Developer, QA or test                             3611\n",
       "Developer, back-end                              29071\n",
       "Developer, desktop or enterprise applications    11036\n",
       "Developer, embedded applications or devices       4598\n",
       "Developer, front-end                             18231\n",
       "Developer, full-stack                            32891\n",
       "Developer, game or graphics                       2112\n",
       "Developer, mobile                                 9800\n",
       "Engineer, data                                    4176\n",
       "Scientist                                         2015\n",
       "System administrator                              6079\n",
       "dtype: int64"
      ]
     },
     "execution_count": 10,
     "metadata": {},
     "output_type": "execute_result"
    }
   ],
   "source": [
    "# Check the total samples of roles\n",
    "original_role_sum = encoded_dfs[\"DevType\"].sum(axis=0)\n",
    "original_role_sum"
   ]
  },
  {
   "cell_type": "markdown",
   "id": "12e7637c-61cd-4c68-a098-598cb81a41b5",
   "metadata": {},
   "source": [
    "___________"
   ]
  },
  {
   "cell_type": "markdown",
   "id": "f9c25dcd-ea9a-4178-9eb9-b90a11d101e8",
   "metadata": {
    "tags": []
   },
   "source": [
    "## Filter data"
   ]
  },
  {
   "cell_type": "code",
   "execution_count": 11,
   "id": "a2e2d225-d7e3-4ad6-97c4-63d55486432b",
   "metadata": {},
   "outputs": [
    {
     "data": {
      "image/png": "[encoded data removed]",
      "text/plain": [
       "<Figure size 432x288 with 1 Axes>"
      ]
     },
     "metadata": {
      "needs_background": "light"
     },
     "output_type": "display_data"
    }
   ],
   "source": [
    "freq_roles = encoded_dfs[ROLE_COLS].sum(axis=1)\n",
    "plt.hist(freq_roles, freq_roles.max())\n",
    "plt.title('Number of Roles')\n",
    "plt.show()"
   ]
  },
  {
   "cell_type": "code",
   "execution_count": 12,
   "id": "250473ad-1d55-47fd-9062-cb443048a995",
   "metadata": {},
   "outputs": [
    {
     "data": {
      "image/png": "[encoded data removed]",
      "text/plain": [
       "<Figure size 432x288 with 1 Axes>"
      ]
     },
     "metadata": {
      "needs_background": "light"
     },
     "output_type": "display_data"
    }
   ],
   "source": [
    "freq_tech = encoded_dfs[TECH_COLS].sum(axis=1)\n",
    "plt.hist(freq_tech, freq_tech.max())\n",
    "plt.title('Number of Skills')\n",
    "plt.show()"
   ]
  },
  {
   "cell_type": "code",
   "execution_count": 13,
   "id": "cb868494-7573-4a63-b38a-b8bef67eb286",
   "metadata": {},
   "outputs": [],
   "source": [
    "# Filter frequencies \n",
    "ROLES_RANGE = [1,3]\n",
    "TECH_RANGE  = [3,30]"
   ]
  },
  {
   "cell_type": "code",
   "execution_count": 14,
   "id": "15429d42-c60b-4474-93d1-4b071a8519b6",
   "metadata": {},
   "outputs": [],
   "source": [
    "# Create masks \n",
    "role_mask   = (freq_roles >= ROLES_RANGE[0]) & (freq_roles <= ROLES_RANGE[1])\n",
    "tech_mask   = (freq_tech >= TECH_RANGE[0])   & (freq_tech <= TECH_RANGE[1])\n",
    "filter_mask = role_mask & tech_mask"
   ]
  },
  {
   "cell_type": "code",
   "execution_count": 15,
   "id": "5be14ed9-2f1a-4557-915f-800bf19a76e1",
   "metadata": {},
   "outputs": [],
   "source": [
    "features_df = features_df.loc[filter_mask].copy()\n",
    "encoded_dfs = encoded_dfs.loc[filter_mask].copy()"
   ]
  },
  {
   "cell_type": "code",
   "execution_count": 16,
   "id": "b9b4ec4e",
   "metadata": {
    "pycharm": {
     "name": "#%%\n"
    }
   },
   "outputs": [
    {
     "data": {
      "text/plain": [
       "Academic researcher                               1708\n",
       "Data or business analyst                          1658\n",
       "Data scientist or machine learning specialist     2460\n",
       "Database administrator                            1210\n",
       "DevOps specialist                                 3056\n",
       "Developer, QA or test                             1135\n",
       "Developer, back-end                              17084\n",
       "Developer, desktop or enterprise applications     4845\n",
       "Developer, embedded applications or devices       2138\n",
       "Developer, front-end                              8932\n",
       "Developer, full-stack                            20655\n",
       "Developer, game or graphics                        899\n",
       "Developer, mobile                                 4751\n",
       "Engineer, data                                    1941\n",
       "Scientist                                         1046\n",
       "System administrator                              2069\n",
       "dtype: int64"
      ]
     },
     "execution_count": 16,
     "metadata": {},
     "output_type": "execute_result"
    }
   ],
   "source": [
    "# Check the total samples of roles\n",
    "cleaned_role_sum = encoded_dfs[\"DevType\"].sum(axis=0)\n",
    "cleaned_role_sum"
   ]
  },
  {
   "cell_type": "markdown",
   "id": "d439fcc6-1c12-4770-9b30-b5c9f337c714",
   "metadata": {},
   "source": [
    "__________"
   ]
  },
  {
   "cell_type": "markdown",
   "id": "6719304e-a0da-4e34-8871-0a9b0f1be027",
   "metadata": {},
   "source": [
    "### Merge & Export data"
   ]
  },
  {
   "cell_type": "code",
   "execution_count": 17,
   "id": "958681f7-860b-4ee1-a850-e20b77ebf3d1",
   "metadata": {},
   "outputs": [],
   "source": [
    "# Add second level indexing \n",
    "features_df.columns = pd.MultiIndex.from_product([['skills_clusters'], \n",
    "                                                  features_df.columns])"
   ]
  },
  {
   "cell_type": "code",
   "execution_count": 18,
   "id": "0726524a-f5cf-44f3-bc0b-54de09384d61",
   "metadata": {},
   "outputs": [],
   "source": [
    "# Concatenate\n",
    "df = pd.concat([encoded_dfs, features_df], axis=1)"
   ]
  },
  {
   "cell_type": "code",
   "execution_count": 19,
   "id": "9dcd9878-4960-4be6-a857-19b6abba3182",
   "metadata": {},
   "outputs": [],
   "source": [
    "# Export \n",
    "df.to_pickle(EXPORT_PATH)"
   ]
  },
  {
   "cell_type": "code",
   "execution_count": null,
   "id": "d550524b-c462-4bd5-8fbc-a4c670685f77",
   "metadata": {},
   "outputs": [],
   "source": []
  }
 ],
 "metadata": {
  "kernelspec": {
   "display_name": "Python 3 (ipykernel)",
   "language": "python",
   "name": "python3"
  },
  "language_info": {
   "codemirror_mode": {
    "name": "ipython",
    "version": 3
   },
   "file_extension": ".py",
   "mimetype": "text/x-python",
   "name": "python",
   "nbconvert_exporter": "python",
   "pygments_lexer": "ipython3",
   "version": "3.9.12"
  }
 },
 "nbformat": 4,
 "nbformat_minor": 5
}
