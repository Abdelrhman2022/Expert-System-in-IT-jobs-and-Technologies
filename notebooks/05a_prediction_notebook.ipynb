{
 "cells": [
  {
   "cell_type": "code",
   "execution_count": 1,
   "id": "ed3bef66-ff21-4577-8b95-aee89c6a5b22",
   "metadata": {},
   "outputs": [],
   "source": [
    "MLFLOW_TRACKING_URI = '../models/mlruns'\n",
    "MLFLOW_RUN_ID = \"a107782f5e814648af1d609b046aa929\"\n",
    "\n",
    "LOG_DATA_PKL    =  \"data.pkl\"\n",
    "LOG_MODEL_PKL   =  \"model.pkl\"\n",
    "LOG_METRICS_PKL =  \"metrics.pkl\"\n",
    "\n",
    "CLUSTERS_YAML_PATH = \"../data/processed/features_skills_clusters_description.yaml\""
   ]
  },
  {
   "cell_type": "code",
   "execution_count": 2,
   "id": "00b8e7fc-c8c4-4a99-8866-243419a39b7a",
   "metadata": {},
   "outputs": [],
   "source": [
    "import os \n",
    "import sklearn\n",
    "import pickle\n",
    "import yaml\n",
    "\n",
    "import pandas as pd\n",
    "\n",
    "import mlflow\n",
    "from mlflow.tracking import MlflowClient"
   ]
  },
  {
   "cell_type": "markdown",
   "id": "fce27021",
   "metadata": {
    "pycharm": {
     "name": "#%% md\n"
    }
   },
   "source": [
    "# Initialize"
   ]
  },
  {
   "cell_type": "markdown",
   "id": "c827ce95",
   "metadata": {
    "pycharm": {
     "name": "#%% md\n"
    }
   },
   "source": [
    "# 1. Mlflow"
   ]
  },
  {
   "cell_type": "code",
   "execution_count": 3,
   "id": "ca50e983",
   "metadata": {
    "pycharm": {
     "name": "#%%\n"
    }
   },
   "outputs": [
    {
     "ename": "MlflowException",
     "evalue": "Run 'a107782f5e814648af1d609b046aa929' not found",
     "output_type": "error",
     "traceback": [
      "\u001b[1;31m---------------------------------------------------------------------------\u001b[0m",
      "\u001b[1;31mMlflowException\u001b[0m                           Traceback (most recent call last)",
      "Input \u001b[1;32mIn [3]\u001b[0m, in \u001b[0;36m<cell line: 5>\u001b[1;34m()\u001b[0m\n\u001b[0;32m      2\u001b[0m mlflow\u001b[38;5;241m.\u001b[39mset_tracking_uri(MLFLOW_TRACKING_URI)\n\u001b[0;32m      3\u001b[0m client \u001b[38;5;241m=\u001b[39m MlflowClient()\n\u001b[1;32m----> 5\u001b[0m run \u001b[38;5;241m=\u001b[39m \u001b[43mmlflow\u001b[49m\u001b[38;5;241;43m.\u001b[39;49m\u001b[43mget_run\u001b[49m\u001b[43m(\u001b[49m\u001b[43mMLFLOW_RUN_ID\u001b[49m\u001b[43m)\u001b[49m\n\u001b[0;32m      6\u001b[0m artificats_path \u001b[38;5;241m=\u001b[39m run\u001b[38;5;241m.\u001b[39minfo\u001b[38;5;241m.\u001b[39martifact_uri\n",
      "File \u001b[1;32m~\\AppData\\Roaming\\Python\\Python39\\site-packages\\mlflow\\tracking\\fluent.py:514\u001b[0m, in \u001b[0;36mget_run\u001b[1;34m(run_id)\u001b[0m\n\u001b[0;32m    483\u001b[0m \u001b[38;5;28;01mdef\u001b[39;00m \u001b[38;5;21mget_run\u001b[39m(run_id: \u001b[38;5;28mstr\u001b[39m) \u001b[38;5;241m-\u001b[39m\u001b[38;5;241m>\u001b[39m Run:\n\u001b[0;32m    484\u001b[0m     \u001b[38;5;124;03m\"\"\"\u001b[39;00m\n\u001b[0;32m    485\u001b[0m \u001b[38;5;124;03m    Fetch the run from backend store. The resulting :py:class:`Run <mlflow.entities.Run>`\u001b[39;00m\n\u001b[0;32m    486\u001b[0m \u001b[38;5;124;03m    contains a collection of run metadata -- :py:class:`RunInfo <mlflow.entities.RunInfo>`,\u001b[39;00m\n\u001b[1;32m   (...)\u001b[0m\n\u001b[0;32m    512\u001b[0m \u001b[38;5;124;03m        run_id: 7472befefc754e388e8e922824a0cca5; lifecycle_stage: active\u001b[39;00m\n\u001b[0;32m    513\u001b[0m \u001b[38;5;124;03m    \"\"\"\u001b[39;00m\n\u001b[1;32m--> 514\u001b[0m     \u001b[38;5;28;01mreturn\u001b[39;00m \u001b[43mMlflowClient\u001b[49m\u001b[43m(\u001b[49m\u001b[43m)\u001b[49m\u001b[38;5;241;43m.\u001b[39;49m\u001b[43mget_run\u001b[49m\u001b[43m(\u001b[49m\u001b[43mrun_id\u001b[49m\u001b[43m)\u001b[49m\n",
      "File \u001b[1;32m~\\AppData\\Roaming\\Python\\Python39\\site-packages\\mlflow\\tracking\\client.py:150\u001b[0m, in \u001b[0;36mMlflowClient.get_run\u001b[1;34m(self, run_id)\u001b[0m\n\u001b[0;32m    112\u001b[0m \u001b[38;5;28;01mdef\u001b[39;00m \u001b[38;5;21mget_run\u001b[39m(\u001b[38;5;28mself\u001b[39m, run_id: \u001b[38;5;28mstr\u001b[39m) \u001b[38;5;241m-\u001b[39m\u001b[38;5;241m>\u001b[39m Run:\n\u001b[0;32m    113\u001b[0m     \u001b[38;5;124;03m\"\"\"\u001b[39;00m\n\u001b[0;32m    114\u001b[0m \u001b[38;5;124;03m    Fetch the run from backend store. The resulting :py:class:`Run <mlflow.entities.Run>`\u001b[39;00m\n\u001b[0;32m    115\u001b[0m \u001b[38;5;124;03m    contains a collection of run metadata -- :py:class:`RunInfo <mlflow.entities.RunInfo>`,\u001b[39;00m\n\u001b[1;32m   (...)\u001b[0m\n\u001b[0;32m    148\u001b[0m \u001b[38;5;124;03m        status: FINISHED\u001b[39;00m\n\u001b[0;32m    149\u001b[0m \u001b[38;5;124;03m    \"\"\"\u001b[39;00m\n\u001b[1;32m--> 150\u001b[0m     \u001b[38;5;28;01mreturn\u001b[39;00m \u001b[38;5;28;43mself\u001b[39;49m\u001b[38;5;241;43m.\u001b[39;49m\u001b[43m_tracking_client\u001b[49m\u001b[38;5;241;43m.\u001b[39;49m\u001b[43mget_run\u001b[49m\u001b[43m(\u001b[49m\u001b[43mrun_id\u001b[49m\u001b[43m)\u001b[49m\n",
      "File \u001b[1;32m~\\AppData\\Roaming\\Python\\Python39\\site-packages\\mlflow\\tracking\\_tracking_service\\client.py:72\u001b[0m, in \u001b[0;36mTrackingServiceClient.get_run\u001b[1;34m(self, run_id)\u001b[0m\n\u001b[0;32m     58\u001b[0m \u001b[38;5;124;03m\"\"\"\u001b[39;00m\n\u001b[0;32m     59\u001b[0m \u001b[38;5;124;03mFetch the run from backend store. The resulting :py:class:`Run <mlflow.entities.Run>`\u001b[39;00m\n\u001b[0;32m     60\u001b[0m \u001b[38;5;124;03mcontains a collection of run metadata -- :py:class:`RunInfo <mlflow.entities.RunInfo>`,\u001b[39;00m\n\u001b[1;32m   (...)\u001b[0m\n\u001b[0;32m     69\u001b[0m \u001b[38;5;124;03m         raises an exception.\u001b[39;00m\n\u001b[0;32m     70\u001b[0m \u001b[38;5;124;03m\"\"\"\u001b[39;00m\n\u001b[0;32m     71\u001b[0m _validate_run_id(run_id)\n\u001b[1;32m---> 72\u001b[0m \u001b[38;5;28;01mreturn\u001b[39;00m \u001b[38;5;28;43mself\u001b[39;49m\u001b[38;5;241;43m.\u001b[39;49m\u001b[43mstore\u001b[49m\u001b[38;5;241;43m.\u001b[39;49m\u001b[43mget_run\u001b[49m\u001b[43m(\u001b[49m\u001b[43mrun_id\u001b[49m\u001b[43m)\u001b[49m\n",
      "File \u001b[1;32m~\\AppData\\Roaming\\Python\\Python39\\site-packages\\mlflow\\store\\tracking\\file_store.py:602\u001b[0m, in \u001b[0;36mFileStore.get_run\u001b[1;34m(self, run_id)\u001b[0m\n\u001b[0;32m    598\u001b[0m \u001b[38;5;124;03m\"\"\"\u001b[39;00m\n\u001b[0;32m    599\u001b[0m \u001b[38;5;124;03mNote: Will get both active and deleted runs.\u001b[39;00m\n\u001b[0;32m    600\u001b[0m \u001b[38;5;124;03m\"\"\"\u001b[39;00m\n\u001b[0;32m    601\u001b[0m _validate_run_id(run_id)\n\u001b[1;32m--> 602\u001b[0m run_info \u001b[38;5;241m=\u001b[39m \u001b[38;5;28;43mself\u001b[39;49m\u001b[38;5;241;43m.\u001b[39;49m\u001b[43m_get_run_info\u001b[49m\u001b[43m(\u001b[49m\u001b[43mrun_id\u001b[49m\u001b[43m)\u001b[49m\n\u001b[0;32m    603\u001b[0m \u001b[38;5;28;01mif\u001b[39;00m run_info \u001b[38;5;129;01mis\u001b[39;00m \u001b[38;5;28;01mNone\u001b[39;00m:\n\u001b[0;32m    604\u001b[0m     \u001b[38;5;28;01mraise\u001b[39;00m MlflowException(\n\u001b[0;32m    605\u001b[0m         \u001b[38;5;124m\"\u001b[39m\u001b[38;5;124mRun \u001b[39m\u001b[38;5;124m'\u001b[39m\u001b[38;5;132;01m%s\u001b[39;00m\u001b[38;5;124m'\u001b[39m\u001b[38;5;124m metadata is in invalid state.\u001b[39m\u001b[38;5;124m\"\u001b[39m \u001b[38;5;241m%\u001b[39m run_id, databricks_pb2\u001b[38;5;241m.\u001b[39mINVALID_STATE\n\u001b[0;32m    606\u001b[0m     )\n",
      "File \u001b[1;32m~\\AppData\\Roaming\\Python\\Python39\\site-packages\\mlflow\\store\\tracking\\file_store.py:621\u001b[0m, in \u001b[0;36mFileStore._get_run_info\u001b[1;34m(self, run_uuid)\u001b[0m\n\u001b[0;32m    619\u001b[0m exp_id, run_dir \u001b[38;5;241m=\u001b[39m \u001b[38;5;28mself\u001b[39m\u001b[38;5;241m.\u001b[39m_find_run_root(run_uuid)\n\u001b[0;32m    620\u001b[0m \u001b[38;5;28;01mif\u001b[39;00m run_dir \u001b[38;5;129;01mis\u001b[39;00m \u001b[38;5;28;01mNone\u001b[39;00m:\n\u001b[1;32m--> 621\u001b[0m     \u001b[38;5;28;01mraise\u001b[39;00m MlflowException(\n\u001b[0;32m    622\u001b[0m         \u001b[38;5;124m\"\u001b[39m\u001b[38;5;124mRun \u001b[39m\u001b[38;5;124m'\u001b[39m\u001b[38;5;132;01m%s\u001b[39;00m\u001b[38;5;124m'\u001b[39m\u001b[38;5;124m not found\u001b[39m\u001b[38;5;124m\"\u001b[39m \u001b[38;5;241m%\u001b[39m run_uuid, databricks_pb2\u001b[38;5;241m.\u001b[39mRESOURCE_DOES_NOT_EXIST\n\u001b[0;32m    623\u001b[0m     )\n\u001b[0;32m    624\u001b[0m run_info \u001b[38;5;241m=\u001b[39m \u001b[38;5;28mself\u001b[39m\u001b[38;5;241m.\u001b[39m_get_run_info_from_dir(run_dir)\n\u001b[0;32m    625\u001b[0m \u001b[38;5;28;01mif\u001b[39;00m run_info\u001b[38;5;241m.\u001b[39mexperiment_id \u001b[38;5;241m!=\u001b[39m exp_id:\n",
      "\u001b[1;31mMlflowException\u001b[0m: Run 'a107782f5e814648af1d609b046aa929' not found"
     ]
    }
   ],
   "source": [
    "# Initialize client and experiment\n",
    "mlflow.set_tracking_uri(MLFLOW_TRACKING_URI)\n",
    "client = MlflowClient()\n",
    "\n",
    "run = mlflow.get_run(MLFLOW_RUN_ID)\n",
    "artificats_path = run.info.artifact_uri"
   ]
  },
  {
   "cell_type": "markdown",
   "id": "a3b1dcf3-5871-4356-bd13-89ed7d8fa5e4",
   "metadata": {},
   "source": [
    "## Load model"
   ]
  },
  {
   "cell_type": "code",
   "execution_count": null,
   "id": "a40aef60",
   "metadata": {
    "pycharm": {
     "name": "#%%\n"
    }
   },
   "outputs": [],
   "source": [
    "# Load model\n",
    "model_path = os.path.join(artificats_path, LOG_MODEL_PKL)\n",
    "with open(model_path, \"rb\") as f:\n",
    "    model = pickle.load(f)\n",
    "\n",
    "model"
   ]
  },
  {
   "cell_type": "code",
   "execution_count": 4,
   "id": "a44f70b7-d158-4f21-aae2-b05ddbb68946",
   "metadata": {},
   "outputs": [
    {
     "ename": "NameError",
     "evalue": "name 'artificats_path' is not defined",
     "output_type": "error",
     "traceback": [
      "\u001b[1;31m---------------------------------------------------------------------------\u001b[0m",
      "\u001b[1;31mNameError\u001b[0m                                 Traceback (most recent call last)",
      "Input \u001b[1;32mIn [4]\u001b[0m, in \u001b[0;36m<cell line: 2>\u001b[1;34m()\u001b[0m\n\u001b[0;32m      1\u001b[0m \u001b[38;5;66;03m# Load data pkl\u001b[39;00m\n\u001b[1;32m----> 2\u001b[0m data_path  \u001b[38;5;241m=\u001b[39m os\u001b[38;5;241m.\u001b[39mpath\u001b[38;5;241m.\u001b[39mjoin(\u001b[43martificats_path\u001b[49m, LOG_DATA_PKL)\n\u001b[0;32m      3\u001b[0m \u001b[38;5;28;01mwith\u001b[39;00m \u001b[38;5;28mopen\u001b[39m(data_path, \u001b[38;5;124m'\u001b[39m\u001b[38;5;124mrb\u001b[39m\u001b[38;5;124m'\u001b[39m) \u001b[38;5;28;01mas\u001b[39;00m handle:\n\u001b[0;32m      4\u001b[0m     data \u001b[38;5;241m=\u001b[39m pickle\u001b[38;5;241m.\u001b[39mload(handle)\n",
      "\u001b[1;31mNameError\u001b[0m: name 'artificats_path' is not defined"
     ]
    }
   ],
   "source": [
    "# Load data pkl\n",
    "data_path  = os.path.join(artificats_path, LOG_DATA_PKL)\n",
    "with open(data_path, 'rb') as handle:\n",
    "    data = pickle.load(handle)\n",
    "\n",
    "data.keys()"
   ]
  },
  {
   "cell_type": "code",
   "execution_count": null,
   "id": "ab7cc50c",
   "metadata": {
    "pycharm": {
     "name": "#%%\n"
    }
   },
   "outputs": [],
   "source": [
    "# Unpack vars\n",
    "features_names = pd.Series(data[\"features_names\"])\n",
    "targets_names  = pd.Series(data['targets_names'])\n",
    "classifier = model['model_object']"
   ]
  },
  {
   "cell_type": "code",
   "execution_count": null,
   "id": "7d22043f",
   "metadata": {
    "pycharm": {
     "name": "#%%\n"
    }
   },
   "outputs": [],
   "source": [
    "classifier"
   ]
  },
  {
   "cell_type": "markdown",
   "id": "db2398d0",
   "metadata": {
    "pycharm": {
     "name": "#%% md\n"
    }
   },
   "source": [
    "______"
   ]
  },
  {
   "cell_type": "markdown",
   "id": "d8d0759d",
   "metadata": {},
   "source": [
    "## Load skills Clusters"
   ]
  },
  {
   "cell_type": "code",
   "execution_count": null,
   "id": "1a7ac45f-ecca-433e-a54f-5c0b00cac31c",
   "metadata": {},
   "outputs": [],
   "source": [
    "# Load skills clusters\n",
    "with open(CLUSTERS_YAML_PATH, \"r\") as stream:\n",
    "    clusters_config = yaml.safe_load(stream)\n",
    "\n",
    "clusters_config"
   ]
  },
  {
   "cell_type": "code",
   "execution_count": null,
   "id": "11372afe-1fa0-4626-b4d6-3b7aee3a930d",
   "metadata": {},
   "outputs": [],
   "source": [
    "# Reformat into data frame\n",
    "molten_clusters = [(cluster_name, cluster_skill)\n",
    "                   for cluster_name, cluster_skills in clusters_config.items()\n",
    "                   for cluster_skill in cluster_skills]\n",
    "\n",
    "clusters_df = pd.DataFrame(molten_clusters, columns=[\"cluster_name\", \"skill\"])\n",
    "clusters_df"
   ]
  },
  {
   "cell_type": "markdown",
   "id": "b8929c13",
   "metadata": {
    "pycharm": {
     "name": "#%% md\n"
    }
   },
   "source": [
    "________"
   ]
  },
  {
   "cell_type": "markdown",
   "id": "71ff469f",
   "metadata": {},
   "source": [
    "## Predict sample entry"
   ]
  },
  {
   "cell_type": "code",
   "execution_count": null,
   "id": "e66c168d-1213-4d04-9a3b-b8068d9b0732",
   "metadata": {},
   "outputs": [],
   "source": [
    "sample_skills = ['Scala', 'Hadoop', 'Python']"
   ]
  },
  {
   "cell_type": "code",
   "execution_count": null,
   "id": "b3da4706",
   "metadata": {
    "pycharm": {
     "name": "#%%\n"
    }
   },
   "outputs": [],
   "source": [
    "# Verify\n",
    "pd.Series(sample_skills).isin(features_names)"
   ]
  },
  {
   "cell_type": "markdown",
   "id": "45b348f8",
   "metadata": {},
   "source": [
    "### 1. Recreate cluster features"
   ]
  },
  {
   "cell_type": "code",
   "execution_count": null,
   "id": "ccb1f39a-71dd-479b-a7c1-f6c15b16687d",
   "metadata": {},
   "outputs": [],
   "source": [
    "sample_clusters = clusters_df.copy()\n",
    "sample_clusters[\"sample_skills\"] = sample_clusters[\"skill\"].isin(sample_skills)\n",
    "sample_clusters"
   ]
  },
  {
   "cell_type": "code",
   "execution_count": null,
   "id": "262b7f9f-9318-466f-bba8-861db1739d76",
   "metadata": {},
   "outputs": [],
   "source": [
    "cluster_features = sample_clusters.groupby(\"cluster_name\")[\"sample_skills\"].sum()\n",
    "cluster_features"
   ]
  },
  {
   "cell_type": "markdown",
   "id": "ec197a4b-4526-4e26-98c7-920f8e98fb7c",
   "metadata": {
    "tags": []
   },
   "source": [
    "### 2. Create OneHotEncoded skills"
   ]
  },
  {
   "cell_type": "code",
   "execution_count": null,
   "id": "8c742f25-500d-48cb-8f9b-167da9902aa9",
   "metadata": {},
   "outputs": [],
   "source": [
    "skills_names = features_names[~features_names.isin(cluster_features.index)]\n",
    "skills_names"
   ]
  },
  {
   "cell_type": "code",
   "execution_count": null,
   "id": "3da1b14e-1772-4493-855f-db2f63b27c5f",
   "metadata": {},
   "outputs": [],
   "source": [
    "ohe_skills = pd.Series(skills_names.isin(sample_skills).astype(int).tolist(), \n",
    "                       index=skills_names)\n",
    "ohe_skills"
   ]
  },
  {
   "cell_type": "markdown",
   "id": "10679807-6733-49f6-a6a5-b0d472f09b09",
   "metadata": {
    "tags": []
   },
   "source": [
    "### 3. Combine features"
   ]
  },
  {
   "cell_type": "code",
   "execution_count": null,
   "id": "0f5dcb97-beb4-48df-99b5-f78794cfb36f",
   "metadata": {},
   "outputs": [],
   "source": [
    "# Concat\n",
    "features = pd.concat([ohe_skills,\n",
    "                      cluster_features])"
   ]
  },
  {
   "cell_type": "code",
   "execution_count": null,
   "id": "6eb9d705-509e-44a5-b48f-8d5709179502",
   "metadata": {},
   "outputs": [],
   "source": [
    "# Sort columns\n",
    "features = features.loc[features_names]\n",
    "features"
   ]
  },
  {
   "cell_type": "markdown",
   "id": "7151e391-62d6-4178-9d8a-b20d97f8e927",
   "metadata": {
    "tags": []
   },
   "source": [
    "### 4. Predict"
   ]
  },
  {
   "cell_type": "code",
   "execution_count": null,
   "id": "ef81f5ca",
   "metadata": {
    "pycharm": {
     "name": "#%%\n"
    }
   },
   "outputs": [],
   "source": [
    "predictions = classifier.predict_proba([features.values])\n",
    "predictions"
   ]
  },
  {
   "cell_type": "code",
   "execution_count": null,
   "id": "2176c307-de94-405b-bc6a-edb1f6fa2ce0",
   "metadata": {},
   "outputs": [],
   "source": [
    "positive_probs = [prob[0][1] for prob in predictions]\n",
    "pd.Series(positive_probs, \n",
    "          index=targets_names).sort_values(ascending=False)"
   ]
  },
  {
   "cell_type": "code",
   "execution_count": null,
   "id": "3cdb7e2a-6600-4386-8bbb-eda1b4070634",
   "metadata": {},
   "outputs": [],
   "source": []
  }
 ],
 "metadata": {
  "kernelspec": {
   "display_name": "Python 3 (ipykernel)",
   "language": "python",
   "name": "python3"
  },
  "language_info": {
   "codemirror_mode": {
    "name": "ipython",
    "version": 3
   },
   "file_extension": ".py",
   "mimetype": "text/x-python",
   "name": "python",
   "nbconvert_exporter": "python",
   "pygments_lexer": "ipython3",
   "version": "3.9.12"
  }
 },
 "nbformat": 4,
 "nbformat_minor": 5
}
